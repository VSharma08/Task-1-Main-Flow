{
  "nbformat": 4,
  "nbformat_minor": 0,
  "metadata": {
    "colab": {
      "provenance": []
    },
    "kernelspec": {
      "name": "python3",
      "display_name": "Python 3"
    },
    "language_info": {
      "name": "python"
    }
  },
  "cells": [
    {
      "cell_type": "code",
      "execution_count": 1,
      "metadata": {
        "colab": {
          "base_uri": "https://localhost:8080/"
        },
        "id": "yNnG2_UKJW-q",
        "outputId": "4bf21fcb-191d-4aad-f708-351eb3b2e434"
      },
      "outputs": [
        {
          "output_type": "stream",
          "name": "stdout",
          "text": [
            "My New List: [1, 2, 8, 5, 9, 6]\n"
          ]
        }
      ],
      "source": [
        "#Creating List\n",
        "my_list = [1,2,3,4,5]\n",
        "\n",
        "#Adding an element in the list\n",
        "my_list.append(6)\n",
        "\n",
        "#Removing an element in the list\n",
        "my_list.remove(3)\n",
        "\n",
        "#Modifying an element in the list\n",
        "my_list[2] = 8\n",
        "\n",
        "#Inserting a new element into a specific position\n",
        "my_list.insert(4, 9)\n",
        "\n",
        "#Printing the new list\n",
        "print(\"My New List:\", my_list)"
      ]
    },
    {
      "cell_type": "code",
      "source": [
        "#Creating a dictionary\n",
        "my_dict = {'Name': 'Raj',  'City': 'Delhi', 'Age': 20, \"Blood_Group\": 'AB+'}\n",
        "\n",
        "#Adding an element in the Dictionary\n",
        "my_dict['Occupation'] = 'Doctor'\n",
        "\n",
        "#Removing an element in the Dictionary\n",
        "del my_dict['Blood_Group']\n",
        "\n",
        "#Modifying an element in the Dictionary\n",
        "my_dict['City']= 'Dehradun'\n",
        "\n",
        "#Printing the new dictionary\n",
        "print(\"My New Dictionary:\", my_dict)"
      ],
      "metadata": {
        "colab": {
          "base_uri": "https://localhost:8080/"
        },
        "id": "05wDIV5yJ2Fc",
        "outputId": "5e1373b9-c537-4635-f26c-4666a23745d5"
      },
      "execution_count": 5,
      "outputs": [
        {
          "output_type": "stream",
          "name": "stdout",
          "text": [
            "My New Dictionary: {'Name': 'Raj', 'City': 'Dehradun', 'Age': 20, 'Occupation': 'Doctor'}\n"
          ]
        }
      ]
    },
    {
      "cell_type": "code",
      "source": [
        "#Creatign a new Set\n",
        "my_set = {1, 'apple', 5, 'Transport'}\n",
        "\n",
        "#Adding an element in the Set\n",
        "my_set.add(8)\n",
        "\n",
        "#Removing an element in the Set\n",
        "my_set.remove('Transport')\n",
        "\n",
        "#Printing the new Set\n",
        "print(\"My New Set:\", my_set)"
      ],
      "metadata": {
        "colab": {
          "base_uri": "https://localhost:8080/"
        },
        "id": "pOmSvqfFKIVH",
        "outputId": "d26548d5-e3ed-453b-c51e-f3833b678912"
      },
      "execution_count": 6,
      "outputs": [
        {
          "output_type": "stream",
          "name": "stdout",
          "text": [
            "My New Set: {1, 5, 8, 'apple'}\n"
          ]
        }
      ]
    }
  ]
}